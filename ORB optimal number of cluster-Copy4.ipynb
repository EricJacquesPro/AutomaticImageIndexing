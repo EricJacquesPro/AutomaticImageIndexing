{
 "cells": [
  {
   "cell_type": "code",
   "execution_count": 1,
   "metadata": {
    "collapsed": true
   },
   "outputs": [],
   "source": [
    "import time\n",
    "import numpy as np\n",
    "import matplotlib.pyplot as plt\n",
    "from sklearn.preprocessing import normalize\n",
    "\n",
    "import sys\n",
    "sys.path.insert(0, './')\n",
    "\n",
    "def generateModelV2(working_directory, \n",
    "                    number_directory=0, \n",
    "                    number_images=0,\n",
    "                    #number_cluster=10,\n",
    "                    descriptor_generator=\"SIFT\", \n",
    "                    number_feature=200,\n",
    "                    minimum_size_descriptor=20, \n",
    "                    version=\"\"\n",
    "                   ):\n",
    "    start_time_model = time.time()\n",
    "\n",
    "    # class de travail\n",
    "    from Python.automaticImageIndexing import AutomaticImageIndexing\n",
    "    automaticImageIndexing = AutomaticImageIndexing()\n",
    "\n",
    "    print(''.join(['Version : ', automaticImageIndexing.version()]))\n",
    "    print(''.join(['Data directory : ', automaticImageIndexing.data_directory]))\n",
    "\n",
    "    automaticImageIndexing.n_limite_directories = number_directory\n",
    "    automaticImageIndexing.n_limite_images = number_images\n",
    "    print(''.join(['Max Number of directory : ', str(automaticImageIndexing.n_limite_directories)]))\n",
    "    print(''.join(['Max Number of picture by directory : ', str(automaticImageIndexing.n_limite_images)]))\n",
    "\n",
    "    automaticImageIndexing.working_directory = working_directory#'C:/Users/naru_/OneDrive/Documents/openclassroom/P7 traitement image/'\n",
    "    automaticImageIndexing.annotation_directory = 'annotation/'\n",
    "    automaticImageIndexing.picture_directory = 'images/'\n",
    "    \n",
    "    automaticImageIndexing.feature_generator = descriptor_generator\n",
    "    print('Generator : %s' % automaticImageIndexing.feature_generator)\n",
    "    automaticImageIndexing.n_feature = number_feature \n",
    "    print('Number of feature : %d' % automaticImageIndexing.n_feature)\n",
    "    automaticImageIndexing.feature_size_min = minimum_size_descriptor\n",
    "    print('Minimum feature size  %d' % automaticImageIndexing.n_feature)\n",
    "    \n",
    "    automaticImageIndexing.read_picture_and_feature_generation(with_sub_picture=True, descriptor_generator=descriptor_generator, version=version)\n",
    "    print(\"Temps d execution apres parcour image + ORB : %s secondes ---\" % (time.time() - start_time_model))\n",
    "\n",
    "    return automaticImageIndexing\n",
    "\n",
    "def generateCluster(automaticImageIndexing, number_cluster=None, mode_affichage=\"\", number_cluster_to_show=None):\n",
    "    start_time_cluster = time.time()\n",
    "    if(number_cluster is None):\n",
    "        number_cluster = int(10)\n",
    "    automaticImageIndexing.n_clusters = number_cluster\n",
    "    \n",
    "    automaticImageIndexing.clusturing(automaticImageIndexing.n_clusters)\n",
    "    print(\"Temps d execution apres Clustering : %s secondes ---\" % (time.time() - start_time_cluster))\n",
    "    mega_histo = automaticImageIndexing.developBagOfVisualWord()\n",
    "    print(\"Temps d execution apres BOV : %s secondes ---\" % (time.time() - start_time_cluster))\n",
    "    automaticImageIndexing.plotHist(mega_histo, automaticImageIndexing.n_clusters, None)\n",
    "    print(\"Temps d execution après plot BOV : %s secondes ---\" % (time.time() - start_time_cluster))\n",
    "\n",
    "    if number_cluster_to_show is None :\n",
    "        number_cluster_to_show = int(number_cluster/2)\n",
    "    showClusterPicture(\n",
    "        automaticImageIndexing=automaticImageIndexing,\n",
    "        mode_affichage=mode_affichage,\n",
    "        number_cluster_to_show=number_cluster_to_show\n",
    "    )\n",
    "\n",
    "def showClusterPicture(automaticImageIndexing, mode_affichage=\"\", number_cluster_to_show=None):\n",
    "    start_time_showing = time.time()\n",
    "\n",
    "    if automaticImageIndexing.n_clusters is None:\n",
    "        print(\"Veuillez entrainer le model (& generer les cluster) ---\")\n",
    "    else:\n",
    "        if number_cluster_to_show is None :\n",
    "            number_cluster_to_show = int(automaticImageIndexing.n_clusters/2)\n",
    "\n",
    "        if (mode_affichage == \"subplot\" or mode_affichage == \"all\"):\n",
    "            print(\"affichage subplot des images liées au cluster %d\" % number_cluster_to_show)\n",
    "            automaticImageIndexing.plot_descriptor_in_cluster_subplot_V2(number_cluster_to_show)\n",
    "            print(\"Temps d execution apres subplot : %s secondes ---\" % (time.time() - start_time_showing))\n",
    "\n",
    "        if (mode_affichage == \"individual_plot\" or mode_affichage == \"all\"):\n",
    "            print(\"affichage individuel des images liées au cluster %d\" % number_cluster_to_show)\n",
    "            automaticImageIndexing.plot_descriptor_in_cluster_individualplot(number_cluster_to_show)        \n",
    "            print(\"Temps d execution apres individual_plot : %s secondes ---\" % (time.time() - start_time_showing))\n",
    "    \n"
   ]
  },
  {
   "cell_type": "code",
   "execution_count": 2,
   "metadata": {
    "collapsed": true
   },
   "outputs": [],
   "source": [
    "def k_mean_distance_decriptor(data, cantroid_matrix, i_centroid, cluster_labels):\n",
    "    # Calculate Euclidean distance for each data point assigned to centroid\n",
    "    distances = [np.linalg.norm(x-cantroid_matrix) for x in data[cluster_labels == i_centroid]]\n",
    "    # return the mean value\n",
    "    return np.nanmean(distances), np.nanmin(distances), np.nanmax(distances), len(distances)\n",
    "\n",
    "def k_mean_distance_all_cluster(model):\n",
    "    distances = []\n",
    "    clusters_rates = []\n",
    "    data = model.np.array(model.desc_list)\n",
    "    for i_centroid, cantroid_matrix in enumerate(model.kmeans_obj.cluster_centers_):\n",
    "        # Calculate Euclidean distance for each data point assigned to centroid\n",
    "        distances = distances + [model.np.linalg.norm(x-cantroid_matrix) for x in data[model.kmeans_ret == i_centroid]]\n",
    "        # Calculate the rate of cluster for each centroid\n",
    "        clusters_rates.append(len(data[model.kmeans_ret == i_centroid]))\n",
    "    return model.np.nanmean(distances), model.np.nanmin(distances), model.np.nanmax(distances), model.np.nanmean(clusters_rates)\n",
    "\n",
    "def findBestCluster(automaticImageIndexing, number_cluster_min=0, number_cluster_max=100, number_cluster_step=25, show_intermediate_distance=None):\n",
    "    start_time_cluster_optimizing = time.time()\n",
    "    \n",
    "    if automaticImageIndexing.n_clusters is None:\n",
    "        print(\"Veuillez entrainer le model (et generer les clusters) ---\")\n",
    "    else:\n",
    "        result = []\n",
    "        nb_descriptor_total = len(automaticImageIndexing.desc_list) * 1.0 #1.0 to convert int in decimal\n",
    "        print(\"nb descriptor : %s\" % nb_descriptor_total)\n",
    "        \n",
    "        mean_distances_all_cluster = []\n",
    "        max_distances_all_cluster = []\n",
    "        min_distances_all_cluster = []\n",
    "        perform_indicator_nb_descriptor_all_cluster=[]\n",
    "        perform_indicator_descripor_all_cluster=[]\n",
    "\n",
    "        for nb_cluster in range(number_cluster_min, number_cluster_max, number_cluster_step):\n",
    "            print(\"-----------------------------------------------------------------------------------------\")\n",
    "            print(\"--------------------------------- start test cluster %s ---------------------------------\" % str(nb_cluster))\n",
    "            generateCluster(\n",
    "                automaticImageIndexing=automaticImageIndexing,\n",
    "                number_cluster=nb_cluster\n",
    "            )\n",
    "            \n",
    "            centroids = model.kmeans_obj.cluster_centers_            \n",
    "            if show_intermediate_distance == True:\n",
    "                mean_distances = []\n",
    "                max_distances = []\n",
    "                min_distances = []\n",
    "                descriptors_rate = []\n",
    "                for i, cent_features in enumerate(centroids):\n",
    "                    mean_distance, max_distance, min_distance, number_descriptor = k_mean_distance_decriptor(\n",
    "                        automaticImageIndexing.np.array(automaticImageIndexing.desc_list), \n",
    "                        cent_features,\n",
    "                        i,\n",
    "                        automaticImageIndexing.kmeans_ret\n",
    "                    )\n",
    "                    mean_distances.append(mean_distance)\n",
    "                    max_distances.append(max_distance)\n",
    "                    min_distances.append(min_distance)\n",
    "                    \n",
    "                    perform_indicator_descripor = (number_descriptor / nb_descriptor_total)\n",
    "                    descriptors_rate.append(perform_indicator_descripor)\n",
    "                fig, axs = automaticImageIndexing.plt.subplots(nrows=1, ncols=2, constrained_layout=False)\n",
    "                clusters_numero = range(nb_cluster)\n",
    "                axs[0].plot(clusters_numero, mean_distances)\n",
    "                axs[0].plot(clusters_numero, max_distances)\n",
    "                axs[0].plot(clusters_numero, min_distances)\n",
    "                \n",
    "                axs[0].set_xlabel('Cluster', fontsize=12)\n",
    "                axs[0].set_ylabel('Distance', fontsize=12)\n",
    "                axs[0].set_title('Distances by Cluster', fontsize=12)\n",
    "                \n",
    "                axs[1].plot(clusters_numero, descriptors_rate)\n",
    "                \n",
    "                axs[1].set_xlabel('Cluster', fontsize=12)\n",
    "                axs[1].set_ylabel('Descriptor Rate', fontsize=12)\n",
    "                axs[1].set_title('Descriptor Rate by cluster', fontsize=12)\n",
    "                automaticImageIndexing.plt.show()\n",
    "            \n",
    "            mean_distance_all_cluster, max_distance_all_cluster, min_distance_all_cluster, mean_number_descriptor = k_mean_distance_all_cluster(\n",
    "                automaticImageIndexing\n",
    "            )\n",
    "            mean_distances_all_cluster.append(mean_distance_all_cluster)\n",
    "            max_distances_all_cluster.append(max_distance_all_cluster)\n",
    "            min_distances_all_cluster.append(min_distance_all_cluster)\n",
    "            \n",
    "            print(mean_number_descriptor)\n",
    "            print(nb_descriptor_total)\n",
    "            \n",
    "            print(mean_number_descriptor / nb_descriptor_total)\n",
    "            \n",
    "            perform_indicator_distance = mean_number_descriptor / nb_descriptor_total\n",
    "            \n",
    "            perform_indicator_nb_descriptor_all_cluster.append(perform_indicator_distance)\n",
    "            \n",
    "            print(\"--------------------------------- sop test cluster %s ---------------------------------\" % str(nb_cluster))\n",
    "    clusters_numbers = range(number_cluster_min, number_cluster_max, number_cluster_step)\n",
    "    \n",
    "    fig, axs = automaticImageIndexing.plt.subplots(nrows=1, ncols=2, constrained_layout=False)\n",
    "    axs[0].plot(clusters_numbers, mean_distances_all_cluster, label=\"mean\")\n",
    "    axs[0].plot(clusters_numbers, max_distances_all_cluster, label=\"max\")\n",
    "    axs[0].plot(clusters_numbers, min_distances_all_cluster, label=\"min\")\n",
    "\n",
    "    axs[0].set_xlabel('Cluster', fontsize=12)\n",
    "    axs[0].set_ylabel('Distance moyenne', fontsize=12)\n",
    "    axs[0].set_title('Distances moyenne by number of Cluster', fontsize=12)\n",
    "\n",
    "    axs[1].plot(clusters_numbers, perform_indicator_nb_descriptor_all_cluster, label=\"indicateur Nb Descripteur moyen\")\n",
    "\n",
    "    axs[1].set_xlabel('Cluster', fontsize=12)\n",
    "    axs[1].set_ylabel('Descriptor Rate', fontsize=12)\n",
    "    axs[1].set_title('Descriptor Rate by number of Cluster', fontsize=12)\n",
    "    #automaticImageIndexing.plt.legend()\n",
    "    automaticImageIndexing.plt.show()\n",
    "    \n",
    "    perfs_mean = np.divide(mean_distances_all_cluster,perform_indicator_nb_descriptor_all_cluster)\n",
    "    automaticImageIndexing.plt.plot(clusters_numbers, perfs_mean, label=\"mean\")\n",
    "    perfs_min = np.divide(min_distances_all_cluster,perform_indicator_nb_descriptor_all_cluster)\n",
    "    automaticImageIndexing.plt.plot(clusters_numbers, perfs_min, label=\"min\")\n",
    "    perfs_max = np.divide(max_distances_all_cluster,perform_indicator_nb_descriptor_all_cluster)\n",
    "    automaticImageIndexing.plt.plot(clusters_numbers, perfs_max, label=\"max\")\n",
    "    \n",
    "    automaticImageIndexing.plt.legend()\n",
    "    automaticImageIndexing.plt.show()\n",
    "    \n",
    "    perfs_mean = np.divide(perform_indicator_nb_descriptor_all_cluster,mean_distances_all_cluster)\n",
    "    automaticImageIndexing.plt.plot(clusters_numbers, perfs_mean, label=\"mean\")\n",
    "    perfs_min = np.divide(perform_indicator_nb_descriptor_all_cluster,min_distances_all_cluster)\n",
    "    automaticImageIndexing.plt.plot(clusters_numbers, perfs_min, label=\"min\")\n",
    "    perfs_max = np.divide(perform_indicator_nb_descriptor_all_cluster,max_distances_all_cluster)\n",
    "    automaticImageIndexing.plt.plot(clusters_numbers, perfs_max, label=\"max\")\n",
    "    \n",
    "    automaticImageIndexing.plt.legend()\n",
    "    automaticImageIndexing.plt.show()\n",
    "    \n",
    "    perfs_mean = np.multiply(mean_distances_all_cluster,perform_indicator_nb_descriptor_all_cluster)\n",
    "    automaticImageIndexing.plt.plot(clusters_numbers, perfs_mean, label=\"mean\")\n",
    "    perfs_min = np.multiply(min_distances_all_cluster,perform_indicator_nb_descriptor_all_cluster)\n",
    "    automaticImageIndexing.plt.plot(clusters_numbers, perfs_min, label=\"min\")\n",
    "    perfs_max = np.multiply(max_distances_all_cluster,perform_indicator_nb_descriptor_all_cluster)\n",
    "    automaticImageIndexing.plt.plot(clusters_numbers, perfs_max, label=\"max\")\n",
    "    \n",
    "    \n",
    "    automaticImageIndexing.plt.legend()\n",
    "    automaticImageIndexing.plt.show()\n",
    "    \n",
    "    print(\"array normalisees\")\n",
    "    \n",
    "    mean_distances_all_cluster = normalize([mean_distances_all_cluster], axis=1, norm='l1')[0]\n",
    "    max_distances_all_cluster = normalize([max_distances_all_cluster], axis=1, norm='l1')[0]\n",
    "    min_distances_all_cluster = normalize([min_distances_all_cluster], axis=1, norm='l1')[0]\n",
    "    perform_indicator_nb_descriptor_all_cluster = normalize([perform_indicator_nb_descriptor_all_cluster], axis=1, norm='l1') [0]   \n",
    "    \n",
    "    fig, axs = automaticImageIndexing.plt.subplots(nrows=1, ncols=2, constrained_layout=False)\n",
    "    axs[0].plot(clusters_numbers, mean_distances_all_cluster, label=\"mean\")\n",
    "    axs[0].plot(clusters_numbers, max_distances_all_cluster, label=\"max\")\n",
    "    axs[0].plot(clusters_numbers, min_distances_all_cluster, label=\"min\")\n",
    "\n",
    "    axs[0].set_xlabel('Cluster', fontsize=12)\n",
    "    axs[0].set_ylabel('Distance moyenne', fontsize=12)\n",
    "    axs[0].set_title('Distances moyenne by number of Cluster', fontsize=12)\n",
    "\n",
    "    axs[1].plot(clusters_numbers, perform_indicator_nb_descriptor_all_cluster, label=\"indicateur Nb Descripteur moyen\")\n",
    "\n",
    "    axs[1].set_xlabel('Cluster', fontsize=12)\n",
    "    axs[1].set_ylabel('Descriptor Rate', fontsize=12)\n",
    "    axs[1].set_title('Descriptor Rate by number of Cluster', fontsize=12)\n",
    "    #automaticImageIndexing.plt.legend()\n",
    "    automaticImageIndexing.plt.show()\n",
    "    \n",
    "    perfs_mean = np.divide(mean_distances_all_cluster,perform_indicator_nb_descriptor_all_cluster)\n",
    "    automaticImageIndexing.plt.plot(clusters_numbers, perfs_mean, label=\"mean\")\n",
    "    perfs_min = np.divide(min_distances_all_cluster,perform_indicator_nb_descriptor_all_cluster)\n",
    "    automaticImageIndexing.plt.plot(clusters_numbers, perfs_min, label=\"min\")\n",
    "    perfs_max = np.divide(max_distances_all_cluster,perform_indicator_nb_descriptor_all_cluster)\n",
    "    automaticImageIndexing.plt.plot(clusters_numbers, perfs_max, label=\"max\")\n",
    "    \n",
    "    automaticImageIndexing.plt.legend()\n",
    "    automaticImageIndexing.plt.show()\n",
    "    \n",
    "    perfs_mean = np.divide(perform_indicator_nb_descriptor_all_cluster,mean_distances_all_cluster)\n",
    "    automaticImageIndexing.plt.plot(clusters_numbers, perfs_mean, label=\"mean\")\n",
    "    perfs_min = np.divide(perform_indicator_nb_descriptor_all_cluster,min_distances_all_cluster)\n",
    "    automaticImageIndexing.plt.plot(clusters_numbers, perfs_min, label=\"min\")\n",
    "    perfs_max = np.divide(perform_indicator_nb_descriptor_all_cluster,max_distances_all_cluster)\n",
    "    automaticImageIndexing.plt.plot(clusters_numbers, perfs_max, label=\"max\")\n",
    "    \n",
    "    automaticImageIndexing.plt.legend()\n",
    "    automaticImageIndexing.plt.show()\n",
    "    \n",
    "    perfs_mean = np.multiply(mean_distances_all_cluster,perform_indicator_nb_descriptor_all_cluster)\n",
    "    automaticImageIndexing.plt.plot(clusters_numbers, perfs_mean, label=\"mean\")\n",
    "    perfs_min = np.multiply(min_distances_all_cluster,perform_indicator_nb_descriptor_all_cluster)\n",
    "    automaticImageIndexing.plt.plot(clusters_numbers, perfs_min, label=\"min\")\n",
    "    perfs_max = np.multiply(max_distances_all_cluster,perform_indicator_nb_descriptor_all_cluster)\n",
    "    automaticImageIndexing.plt.plot(clusters_numbers, perfs_max, label=\"max\")\n",
    "    \n",
    "    \n",
    "    automaticImageIndexing.plt.legend()\n",
    "    automaticImageIndexing.plt.show()\n",
    "    \n",
    "    print(\"Temps d execution optimisation : %s secondes ---\" % (time.time() - start_time_cluster_optimizing))\n"
   ]
  },
  {
   "cell_type": "code",
   "execution_count": null,
   "metadata": {},
   "outputs": [
    {
     "name": "stdout",
     "output_type": "stream",
     "text": [
      "Version : 0.4\n",
      "Data directory : Data/\n",
      "Max Number of directory : 2\n",
      "Max Number of picture by directory : 2\n",
      "Generator : ORB\n",
      "Number of feature : 6000\n",
      "Minimum feature size  6000\n",
      "Computing Features for  n02085620-Chihuahua\n",
      "Computing Features for  n02085782-Japanese_spaniel\n",
      "Temps d execution apres parcour image + ORB : 0.735000133514 secondes ---\n",
      "nb descriptor : 10559.0\n",
      "-----------------------------------------------------------------------------------------\n",
      "--------------------------------- start test cluster 1 ---------------------------------\n",
      "Temps d execution apres Clustering : 0.161999940872 secondes ---\n",
      "Vocabulary Histogram Generated\n",
      "Temps d execution apres BOV : 0.161999940872 secondes ---\n",
      "Plotting histogram\n"
     ]
    },
    {
     "data": {
      "image/png": "[encoded data removed]",
      "text/plain": [
       "<Figure size 432x288 with 1 Axes>"
      ]
     },
     "metadata": {
      "needs_background": "light"
     },
     "output_type": "display_data"
    },
    {
     "name": "stdout",
     "output_type": "stream",
     "text": [
      "Temps d execution après plot BOV : 0.335999965668 secondes ---\n"
     ]
    },
    {
     "data": {
      "image/png": "[encoded data removed]",
      "text/plain": [
       "<Figure size 432x288 with 2 Axes>"
      ]
     },
     "metadata": {
      "needs_background": "light"
     },
     "output_type": "display_data"
    },
    {
     "name": "stdout",
     "output_type": "stream",
     "text": [
      "10559.0\n",
      "10559.0\n",
      "1.0\n",
      "--------------------------------- sop test cluster 1 ---------------------------------\n",
      "-----------------------------------------------------------------------------------------\n",
      "--------------------------------- start test cluster 2 ---------------------------------\n",
      "Temps d execution apres Clustering : 0.705999851227 secondes ---\n",
      "Vocabulary Histogram Generated\n",
      "Temps d execution apres BOV : 0.705999851227 secondes ---\n",
      "Plotting histogram\n"
     ]
    },
    {
     "data": {
      "image/png": "[encoded data removed]",
      "text/plain": [
       "<Figure size 432x288 with 1 Axes>"
      ]
     },
     "metadata": {
      "needs_background": "light"
     },
     "output_type": "display_data"
    },
    {
     "name": "stdout",
     "output_type": "stream",
     "text": [
      "Temps d execution après plot BOV : 0.816999912262 secondes ---\n"
     ]
    },
    {
     "data": {
      "image/png": "[encoded data removed]",
      "text/plain": [
       "<Figure size 432x288 with 2 Axes>"
      ]
     },
     "metadata": {
      "needs_background": "light"
     },
     "output_type": "display_data"
    },
    {
     "name": "stdout",
     "output_type": "stream",
     "text": [
      "5279.5\n",
      "10559.0\n",
      "0.5\n",
      "--------------------------------- sop test cluster 2 ---------------------------------\n",
      "-----------------------------------------------------------------------------------------\n",
      "--------------------------------- start test cluster 3 ---------------------------------\n"
     ]
    },
    {
     "ename": "KeyboardInterrupt",
     "evalue": "",
     "output_type": "error",
     "traceback": [
      "\u001b[1;31m---------------------------------------------------------------------------\u001b[0m",
      "\u001b[1;31mKeyboardInterrupt\u001b[0m                         Traceback (most recent call last)",
      "\u001b[1;32m<ipython-input-3-aa3376125950>\u001b[0m in \u001b[0;36m<module>\u001b[1;34m()\u001b[0m\n\u001b[0;32m     13\u001b[0m \u001b[0mstep\u001b[0m \u001b[1;33m=\u001b[0m \u001b[1;36m1\u001b[0m\u001b[1;33m\u001b[0m\u001b[0m\n\u001b[0;32m     14\u001b[0m tableau_perf = findBestCluster(model, start, stop, step,\n\u001b[1;32m---> 15\u001b[1;33m         show_intermediate_distance=True)\n\u001b[0m\u001b[0;32m     16\u001b[0m \u001b[0mtableau_perf\u001b[0m\u001b[1;33m\u001b[0m\u001b[0m\n",
      "\u001b[1;32m<ipython-input-2-377bfc25444c>\u001b[0m in \u001b[0;36mfindBestCluster\u001b[1;34m(automaticImageIndexing, number_cluster_min, number_cluster_max, number_cluster_step, show_intermediate_distance)\u001b[0m\n\u001b[0;32m     37\u001b[0m             generateCluster(\n\u001b[0;32m     38\u001b[0m                 \u001b[0mautomaticImageIndexing\u001b[0m\u001b[1;33m=\u001b[0m\u001b[0mautomaticImageIndexing\u001b[0m\u001b[1;33m,\u001b[0m\u001b[1;33m\u001b[0m\u001b[0m\n\u001b[1;32m---> 39\u001b[1;33m                 \u001b[0mnumber_cluster\u001b[0m\u001b[1;33m=\u001b[0m\u001b[0mnb_cluster\u001b[0m\u001b[1;33m\u001b[0m\u001b[0m\n\u001b[0m\u001b[0;32m     40\u001b[0m             )\n\u001b[0;32m     41\u001b[0m \u001b[1;33m\u001b[0m\u001b[0m\n",
      "\u001b[1;32m<ipython-input-1-15c565454251>\u001b[0m in \u001b[0;36mgenerateCluster\u001b[1;34m(automaticImageIndexing, number_cluster, mode_affichage, number_cluster_to_show)\u001b[0m\n\u001b[0;32m     52\u001b[0m     \u001b[0mautomaticImageIndexing\u001b[0m\u001b[1;33m.\u001b[0m\u001b[0mn_clusters\u001b[0m \u001b[1;33m=\u001b[0m \u001b[0mnumber_cluster\u001b[0m\u001b[1;33m\u001b[0m\u001b[0m\n\u001b[0;32m     53\u001b[0m \u001b[1;33m\u001b[0m\u001b[0m\n\u001b[1;32m---> 54\u001b[1;33m     \u001b[0mautomaticImageIndexing\u001b[0m\u001b[1;33m.\u001b[0m\u001b[0mclusturing\u001b[0m\u001b[1;33m(\u001b[0m\u001b[0mautomaticImageIndexing\u001b[0m\u001b[1;33m.\u001b[0m\u001b[0mn_clusters\u001b[0m\u001b[1;33m)\u001b[0m\u001b[1;33m\u001b[0m\u001b[0m\n\u001b[0m\u001b[0;32m     55\u001b[0m     \u001b[1;32mprint\u001b[0m\u001b[1;33m(\u001b[0m\u001b[1;34m\"Temps d execution apres Clustering : %s secondes ---\"\u001b[0m \u001b[1;33m%\u001b[0m \u001b[1;33m(\u001b[0m\u001b[0mtime\u001b[0m\u001b[1;33m.\u001b[0m\u001b[0mtime\u001b[0m\u001b[1;33m(\u001b[0m\u001b[1;33m)\u001b[0m \u001b[1;33m-\u001b[0m \u001b[0mstart_time_cluster\u001b[0m\u001b[1;33m)\u001b[0m\u001b[1;33m)\u001b[0m\u001b[1;33m\u001b[0m\u001b[0m\n\u001b[0;32m     56\u001b[0m     \u001b[0mmega_histo\u001b[0m \u001b[1;33m=\u001b[0m \u001b[0mautomaticImageIndexing\u001b[0m\u001b[1;33m.\u001b[0m\u001b[0mdevelopBagOfVisualWord\u001b[0m\u001b[1;33m(\u001b[0m\u001b[1;33m)\u001b[0m\u001b[1;33m\u001b[0m\u001b[0m\n",
      "\u001b[1;32mC:\\Users\\naru_\\Documents\\Projet7_ImageIndex\\Source\\AutomaticImageIndexing\\Python\\automaticImageIndexing.py\u001b[0m in \u001b[0;36mclusturing\u001b[1;34m(self, n_clusters)\u001b[0m\n\u001b[0;32m    490\u001b[0m             \u001b[0mself\u001b[0m\u001b[1;33m.\u001b[0m\u001b[0mn_clusters\u001b[0m \u001b[1;33m=\u001b[0m \u001b[0mn_clusters\u001b[0m\u001b[1;33m\u001b[0m\u001b[0m\n\u001b[0;32m    491\u001b[0m         \u001b[0mself\u001b[0m\u001b[1;33m.\u001b[0m\u001b[0mkmeans_obj\u001b[0m \u001b[1;33m=\u001b[0m \u001b[0mself\u001b[0m\u001b[1;33m.\u001b[0m\u001b[0mKMeans\u001b[0m\u001b[1;33m(\u001b[0m\u001b[0mn_clusters\u001b[0m \u001b[1;33m=\u001b[0m \u001b[0mself\u001b[0m\u001b[1;33m.\u001b[0m\u001b[0mn_clusters\u001b[0m\u001b[1;33m)\u001b[0m\u001b[1;33m\u001b[0m\u001b[0m\n\u001b[1;32m--> 492\u001b[1;33m         \u001b[0mself\u001b[0m\u001b[1;33m.\u001b[0m\u001b[0mkmeans_ret\u001b[0m \u001b[1;33m=\u001b[0m \u001b[0mself\u001b[0m\u001b[1;33m.\u001b[0m\u001b[0mkmeans_obj\u001b[0m\u001b[1;33m.\u001b[0m\u001b[0mfit_predict\u001b[0m\u001b[1;33m(\u001b[0m\u001b[0mself\u001b[0m\u001b[1;33m.\u001b[0m\u001b[0mnp\u001b[0m\u001b[1;33m.\u001b[0m\u001b[0marray\u001b[0m\u001b[1;33m(\u001b[0m\u001b[0mself\u001b[0m\u001b[1;33m.\u001b[0m\u001b[0mdesc_list\u001b[0m\u001b[1;33m)\u001b[0m\u001b[1;33m)\u001b[0m\u001b[1;33m\u001b[0m\u001b[0m\n\u001b[0m\u001b[0;32m    493\u001b[0m \u001b[1;33m\u001b[0m\u001b[0m\n\u001b[0;32m    494\u001b[0m     \u001b[1;32mdef\u001b[0m \u001b[0mdevelopVocabulary\u001b[0m\u001b[1;33m(\u001b[0m\u001b[0mself\u001b[0m\u001b[1;33m,\u001b[0m \u001b[0mn_images\u001b[0m\u001b[1;33m)\u001b[0m\u001b[1;33m:\u001b[0m\u001b[1;33m\u001b[0m\u001b[0m\n",
      "\u001b[1;32mC:\\Users\\naru_\\Anaconda3\\envs\\opencv2\\lib\\site-packages\\sklearn\\cluster\\k_means_.pyc\u001b[0m in \u001b[0;36mfit_predict\u001b[1;34m(self, X, y, sample_weight)\u001b[0m\n\u001b[0;32m    998\u001b[0m             \u001b[0mIndex\u001b[0m \u001b[0mof\u001b[0m \u001b[0mthe\u001b[0m \u001b[0mcluster\u001b[0m \u001b[0meach\u001b[0m \u001b[0msample\u001b[0m \u001b[0mbelongs\u001b[0m \u001b[0mto\u001b[0m\u001b[1;33m.\u001b[0m\u001b[1;33m\u001b[0m\u001b[0m\n\u001b[0;32m    999\u001b[0m         \"\"\"\n\u001b[1;32m-> 1000\u001b[1;33m         \u001b[1;32mreturn\u001b[0m \u001b[0mself\u001b[0m\u001b[1;33m.\u001b[0m\u001b[0mfit\u001b[0m\u001b[1;33m(\u001b[0m\u001b[0mX\u001b[0m\u001b[1;33m,\u001b[0m \u001b[0msample_weight\u001b[0m\u001b[1;33m=\u001b[0m\u001b[0msample_weight\u001b[0m\u001b[1;33m)\u001b[0m\u001b[1;33m.\u001b[0m\u001b[0mlabels_\u001b[0m\u001b[1;33m\u001b[0m\u001b[0m\n\u001b[0m\u001b[0;32m   1001\u001b[0m \u001b[1;33m\u001b[0m\u001b[0m\n\u001b[0;32m   1002\u001b[0m     \u001b[1;32mdef\u001b[0m \u001b[0mfit_transform\u001b[0m\u001b[1;33m(\u001b[0m\u001b[0mself\u001b[0m\u001b[1;33m,\u001b[0m \u001b[0mX\u001b[0m\u001b[1;33m,\u001b[0m \u001b[0my\u001b[0m\u001b[1;33m=\u001b[0m\u001b[0mNone\u001b[0m\u001b[1;33m,\u001b[0m \u001b[0msample_weight\u001b[0m\u001b[1;33m=\u001b[0m\u001b[0mNone\u001b[0m\u001b[1;33m)\u001b[0m\u001b[1;33m:\u001b[0m\u001b[1;33m\u001b[0m\u001b[0m\n",
      "\u001b[1;32mC:\\Users\\naru_\\Anaconda3\\envs\\opencv2\\lib\\site-packages\\sklearn\\cluster\\k_means_.pyc\u001b[0m in \u001b[0;36mfit\u001b[1;34m(self, X, y, sample_weight)\u001b[0m\n\u001b[0;32m    972\u001b[0m                 \u001b[0mtol\u001b[0m\u001b[1;33m=\u001b[0m\u001b[0mself\u001b[0m\u001b[1;33m.\u001b[0m\u001b[0mtol\u001b[0m\u001b[1;33m,\u001b[0m \u001b[0mrandom_state\u001b[0m\u001b[1;33m=\u001b[0m\u001b[0mrandom_state\u001b[0m\u001b[1;33m,\u001b[0m \u001b[0mcopy_x\u001b[0m\u001b[1;33m=\u001b[0m\u001b[0mself\u001b[0m\u001b[1;33m.\u001b[0m\u001b[0mcopy_x\u001b[0m\u001b[1;33m,\u001b[0m\u001b[1;33m\u001b[0m\u001b[0m\n\u001b[0;32m    973\u001b[0m                 \u001b[0mn_jobs\u001b[0m\u001b[1;33m=\u001b[0m\u001b[0mself\u001b[0m\u001b[1;33m.\u001b[0m\u001b[0mn_jobs\u001b[0m\u001b[1;33m,\u001b[0m \u001b[0malgorithm\u001b[0m\u001b[1;33m=\u001b[0m\u001b[0mself\u001b[0m\u001b[1;33m.\u001b[0m\u001b[0malgorithm\u001b[0m\u001b[1;33m,\u001b[0m\u001b[1;33m\u001b[0m\u001b[0m\n\u001b[1;32m--> 974\u001b[1;33m                 return_n_iter=True)\n\u001b[0m\u001b[0;32m    975\u001b[0m         \u001b[1;32mreturn\u001b[0m \u001b[0mself\u001b[0m\u001b[1;33m\u001b[0m\u001b[0m\n\u001b[0;32m    976\u001b[0m \u001b[1;33m\u001b[0m\u001b[0m\n",
      "\u001b[1;32mC:\\Users\\naru_\\Anaconda3\\envs\\opencv2\\lib\\site-packages\\sklearn\\cluster\\k_means_.pyc\u001b[0m in \u001b[0;36mk_means\u001b[1;34m(X, n_clusters, sample_weight, init, precompute_distances, n_init, max_iter, verbose, tol, random_state, copy_x, n_jobs, algorithm, return_n_iter)\u001b[0m\n\u001b[0;32m    381\u001b[0m                 \u001b[0mverbose\u001b[0m\u001b[1;33m=\u001b[0m\u001b[0mverbose\u001b[0m\u001b[1;33m,\u001b[0m \u001b[0mprecompute_distances\u001b[0m\u001b[1;33m=\u001b[0m\u001b[0mprecompute_distances\u001b[0m\u001b[1;33m,\u001b[0m\u001b[1;33m\u001b[0m\u001b[0m\n\u001b[0;32m    382\u001b[0m                 \u001b[0mtol\u001b[0m\u001b[1;33m=\u001b[0m\u001b[0mtol\u001b[0m\u001b[1;33m,\u001b[0m \u001b[0mx_squared_norms\u001b[0m\u001b[1;33m=\u001b[0m\u001b[0mx_squared_norms\u001b[0m\u001b[1;33m,\u001b[0m\u001b[1;33m\u001b[0m\u001b[0m\n\u001b[1;32m--> 383\u001b[1;33m                 random_state=random_state)\n\u001b[0m\u001b[0;32m    384\u001b[0m             \u001b[1;31m# determine if these results are the best so far\u001b[0m\u001b[1;33m\u001b[0m\u001b[1;33m\u001b[0m\u001b[0m\n\u001b[0;32m    385\u001b[0m             \u001b[1;32mif\u001b[0m \u001b[0mbest_inertia\u001b[0m \u001b[1;32mis\u001b[0m \u001b[0mNone\u001b[0m \u001b[1;32mor\u001b[0m \u001b[0minertia\u001b[0m \u001b[1;33m<\u001b[0m \u001b[0mbest_inertia\u001b[0m\u001b[1;33m:\u001b[0m\u001b[1;33m\u001b[0m\u001b[0m\n",
      "\u001b[1;32mC:\\Users\\naru_\\Anaconda3\\envs\\opencv2\\lib\\site-packages\\sklearn\\cluster\\k_means_.pyc\u001b[0m in \u001b[0;36m_kmeans_single_elkan\u001b[1;34m(X, sample_weight, n_clusters, max_iter, init, verbose, x_squared_norms, random_state, tol, precompute_distances)\u001b[0m\n\u001b[0;32m    445\u001b[0m     centers, labels, n_iter = k_means_elkan(X, checked_sample_weight,\n\u001b[0;32m    446\u001b[0m                                             \u001b[0mn_clusters\u001b[0m\u001b[1;33m,\u001b[0m \u001b[0mcenters\u001b[0m\u001b[1;33m,\u001b[0m \u001b[0mtol\u001b[0m\u001b[1;33m=\u001b[0m\u001b[0mtol\u001b[0m\u001b[1;33m,\u001b[0m\u001b[1;33m\u001b[0m\u001b[0m\n\u001b[1;32m--> 447\u001b[1;33m                                             max_iter=max_iter, verbose=verbose)\n\u001b[0m\u001b[0;32m    448\u001b[0m     \u001b[1;32mif\u001b[0m \u001b[0msample_weight\u001b[0m \u001b[1;32mis\u001b[0m \u001b[0mNone\u001b[0m\u001b[1;33m:\u001b[0m\u001b[1;33m\u001b[0m\u001b[0m\n\u001b[0;32m    449\u001b[0m         \u001b[0minertia\u001b[0m \u001b[1;33m=\u001b[0m \u001b[0mnp\u001b[0m\u001b[1;33m.\u001b[0m\u001b[0msum\u001b[0m\u001b[1;33m(\u001b[0m\u001b[1;33m(\u001b[0m\u001b[0mX\u001b[0m \u001b[1;33m-\u001b[0m \u001b[0mcenters\u001b[0m\u001b[1;33m[\u001b[0m\u001b[0mlabels\u001b[0m\u001b[1;33m]\u001b[0m\u001b[1;33m)\u001b[0m \u001b[1;33m**\u001b[0m \u001b[1;36m2\u001b[0m\u001b[1;33m,\u001b[0m \u001b[0mdtype\u001b[0m\u001b[1;33m=\u001b[0m\u001b[0mnp\u001b[0m\u001b[1;33m.\u001b[0m\u001b[0mfloat64\u001b[0m\u001b[1;33m)\u001b[0m\u001b[1;33m\u001b[0m\u001b[0m\n",
      "\u001b[1;32msklearn\\cluster\\_k_means_elkan.pyx\u001b[0m in \u001b[0;36msklearn.cluster._k_means_elkan.k_means_elkan\u001b[1;34m()\u001b[0m\n",
      "\u001b[1;32mC:\\Users\\naru_\\Anaconda3\\envs\\opencv2\\lib\\site-packages\\sklearn\\metrics\\pairwise.pyc\u001b[0m in \u001b[0;36meuclidean_distances\u001b[1;34m(X, Y, Y_norm_squared, squared, X_norm_squared)\u001b[0m\n\u001b[0;32m    162\u001b[0m \u001b[1;33m\u001b[0m\u001b[0m\n\u001b[0;32m    163\u001b[0m \u001b[1;31m# Pairwise distances\u001b[0m\u001b[1;33m\u001b[0m\u001b[1;33m\u001b[0m\u001b[0m\n\u001b[1;32m--> 164\u001b[1;33m def euclidean_distances(X, Y=None, Y_norm_squared=None, squared=False,\n\u001b[0m\u001b[0;32m    165\u001b[0m                         X_norm_squared=None):\n\u001b[0;32m    166\u001b[0m     \"\"\"\n",
      "\u001b[1;31mKeyboardInterrupt\u001b[0m: "
     ]
    }
   ],
   "source": [
    "working_space = 'C:/Users/naru_/OneDrive/Documents/openclassroom/P7 traitement image/'\n",
    "model = generateModelV2(\n",
    "        working_directory=working_space,\n",
    "        number_feature=6000,\n",
    "        number_directory=2,#40, \n",
    "        number_images=2,#20,\n",
    "        descriptor_generator=\"ORB\",\n",
    "        minimum_size_descriptor=20\n",
    "    )\n",
    "\n",
    "start = 1\n",
    "stop = 4\n",
    "step = 1\n",
    "tableau_perf = findBestCluster(model, start, stop, step,\n",
    "        show_intermediate_distance=True)\n",
    "tableau_perf"
   ]
  },
  {
   "cell_type": "code",
   "execution_count": null,
   "metadata": {},
   "outputs": [],
   "source": [
    "start = 10\n",
    "stop = 500\n",
    "step = 25\n",
    "tableau_perf = findBestCluster(model, start, stop, step)\n",
    "tableau_perf"
   ]
  },
  {
   "cell_type": "code",
   "execution_count": null,
   "metadata": {
    "scrolled": true
   },
   "outputs": [],
   "source": [
    "working_space = 'C:/Users/naru_/OneDrive/Documents/openclassroom/P7 traitement image/'\n",
    "model = generateModelV2(\n",
    "        working_directory=working_space,\n",
    "        number_feature=60,\n",
    "        number_directory=100,#40, \n",
    "        number_images=2,#20,\n",
    "        descriptor_generator=\"ORB\",\n",
    "        minimum_size_descriptor=20\n",
    "    )\n",
    "\n",
    "start = 10\n",
    "stop = 1000\n",
    "step = 25\n",
    "tableau_perf = findBestCluster(model, start, stop, step)\n",
    "tableau_perf"
   ]
  },
  {
   "cell_type": "code",
   "execution_count": null,
   "metadata": {},
   "outputs": [],
   "source": [
    "working_space = 'C:/Users/naru_/OneDrive/Documents/openclassroom/P7 traitement image/'\n",
    "model = generateModelV2(\n",
    "        working_directory=working_space,\n",
    "        number_feature=60,\n",
    "        number_directory=100, \n",
    "        number_images=20,\n",
    "        descriptor_generator=\"ORB\",\n",
    "        minimum_size_descriptor=20\n",
    "    )\n",
    "\n",
    "start = 10\n",
    "stop = 500\n",
    "step = 25\n",
    "tableau_perf = findBestCluster(model, start, stop, step)\n",
    "tableau_perf"
   ]
  },
  {
   "cell_type": "code",
   "execution_count": null,
   "metadata": {
    "scrolled": true
   },
   "outputs": [],
   "source": [
    "working_space = 'C:/Users/naru_/OneDrive/Documents/openclassroom/P7 traitement image/'\n",
    "model = generateModelV2(\n",
    "        working_directory=working_space,\n",
    "        number_feature=60,\n",
    "        number_directory=100, \n",
    "        number_images=20,\n",
    "        descriptor_generator=\"ORB\",\n",
    "        minimum_size_descriptor=20\n",
    "    )\n",
    "\n",
    "start = 1\n",
    "stop = 250\n",
    "step = 5\n",
    "tableau_perf = findBestCluster(model, start, stop, step)\n",
    "tableau_perf"
   ]
  },
  {
   "cell_type": "code",
   "execution_count": null,
   "metadata": {},
   "outputs": [],
   "source": [
    "working_space = 'C:/Users/naru_/OneDrive/Documents/openclassroom/P7 traitement image/'\n",
    "model = generateModelV2(\n",
    "        working_directory=working_space,\n",
    "        number_feature=60,\n",
    "        number_directory=0, \n",
    "        number_images=20,\n",
    "        descriptor_generator=\"ORB\",\n",
    "        minimum_size_descriptor=20\n",
    "    )\n",
    "\n",
    "start = 10\n",
    "stop = 250\n",
    "step = 25\n",
    "tableau_perf = findBestCluster(model, start, stop, step)\n",
    "tableau_perf"
   ]
  },
  {
   "cell_type": "code",
   "execution_count": null,
   "metadata": {},
   "outputs": [],
   "source": [
    "working_space = 'C:/Users/naru_/OneDrive/Documents/openclassroom/P7 traitement image/'\n",
    "model = generateModelV2(\n",
    "        working_directory=working_space,\n",
    "        number_feature=60,\n",
    "        number_directory=0, \n",
    "        number_images=50,\n",
    "        descriptor_generator=\"ORB\",\n",
    "        minimum_size_descriptor=20\n",
    "    )\n",
    "\n",
    "start = 10\n",
    "stop = 250\n",
    "step = 25\n",
    "tableau_perf = findBestCluster(model, start, stop, step)\n",
    "tableau_perf"
   ]
  },
  {
   "cell_type": "code",
   "execution_count": null,
   "metadata": {
    "collapsed": true
   },
   "outputs": [],
   "source": [
    "working_space = 'C:/Users/naru_/OneDrive/Documents/openclassroom/P7 traitement image/'\n",
    "model = generateModelV2(\n",
    "        working_directory=working_space,\n",
    "        number_feature=60,\n",
    "        number_directory=0, \n",
    "        number_images=100,\n",
    "        descriptor_generator=\"ORB\",\n",
    "        minimum_size_descriptor=20\n",
    "    )\n",
    "\n",
    "start = 10\n",
    "stop = 250\n",
    "step = 25\n",
    "tableau_perf = findBestCluster(model, start, stop, step)\n",
    "tableau_perf"
   ]
  },
  {
   "cell_type": "code",
   "execution_count": null,
   "metadata": {
    "collapsed": true
   },
   "outputs": [],
   "source": [
    "working_space = 'C:/Users/naru_/OneDrive/Documents/openclassroom/P7 traitement image/'\n",
    "model = generateModelV2(\n",
    "        working_directory=working_space,\n",
    "        number_feature=60,\n",
    "        number_directory=0, \n",
    "        number_images=0,\n",
    "        descriptor_generator=\"ORB\",\n",
    "        minimum_size_descriptor=20\n",
    "    )\n",
    "\n",
    "start = 10\n",
    "stop = 250\n",
    "step = 25\n",
    "tableau_perf = findBestCluster(model, start, stop, step)\n",
    "tableau_perf"
   ]
  },
  {
   "cell_type": "code",
   "execution_count": null,
   "metadata": {
    "collapsed": true
   },
   "outputs": [],
   "source": []
  },
  {
   "cell_type": "code",
   "execution_count": null,
   "metadata": {
    "collapsed": true
   },
   "outputs": [],
   "source": [
    "def generateClusterAndTrainModel(automaticImageIndexing, number_cluster=None, mode_affichage=\"\", number_cluster_to_show=None):\n",
    "    start_time_cluster = time.time()\n",
    "    if(number_cluster is None):\n",
    "        number_cluster = int(10)\n",
    "    automaticImageIndexing.n_clusters = number_cluster\n",
    "    \n",
    "    automaticImageIndexing.clusturing(automaticImageIndexing.n_clusters)\n",
    "    print(\"Temps d execution apres Clustering : %s secondes ---\" % (time.time() - start_time_cluster))\n",
    "    mega_histo = automaticImageIndexing.developBagOfVisualWord()\n",
    "    print(\"Temps d execution apres BOV : %s secondes ---\" % (time.time() - start_time_cluster))\n",
    "    automaticImageIndexing.plotHist(mega_histo, automaticImageIndexing.n_clusters, None)\n",
    "    print(\"Temps d execution après plot BOV : %s secondes ---\" % (time.time() - start_time_cluster))\n",
    "\n",
    "    if number_cluster_to_show is None :\n",
    "        number_cluster_to_show = int(number_cluster/2)\n",
    "    showClusterPicture(\n",
    "        automaticImageIndexing=automaticImageIndexing,\n",
    "        mode_affichage=mode_affichage,\n",
    "        number_cluster_to_show=number_cluster_to_show\n",
    "    )\n",
    "    print automaticImageIndexing.name_dict\n",
    "    \n",
    "\n",
    "    print mega_histo\n",
    "    automaticImageIndexing.mega_histo = automaticImageIndexing.standardize(mega_histo)\n",
    "    print mega_histo\n",
    "    print automaticImageIndexing.mega_histo\n",
    "    automaticImageIndexing.model_predition = automaticImageIndexing.train( automaticImageIndexing.mega_histo, automaticImageIndexing.name_dict)\n",
    "    return automaticImageIndexing.model_predition\n",
    "    "
   ]
  },
  {
   "cell_type": "code",
   "execution_count": null,
   "metadata": {
    "collapsed": true
   },
   "outputs": [],
   "source": [
    "working_space = 'C:/Users/naru_/OneDrive/Documents/openclassroom/P7 traitement image/'\n",
    "\n",
    "nb_cluster = 2#235\n",
    "\n",
    "model = generateModelV2(\n",
    "        working_directory=working_space,\n",
    "        number_feature=75,\n",
    "        number_directory=2,#0, \n",
    "        number_images=2,#100,\n",
    "        descriptor_generator=\"ORB\",\n",
    "        minimum_size_descriptor=20\n",
    "    )\n",
    "\n",
    "print(\"-----------------------------------------------------------------------------------------\")\n",
    "print(\"--------------------------------- Génération %s cluster - Start ---------------------------------\" % str(nb_cluster))\n",
    "modelPrediction = generateClusterAndTrainModel(\n",
    "        model,\n",
    "        number_cluster=nb_cluster\n",
    "    )\n",
    "print(\"--------------------------------- Génération %s cluster - Start ---------------------------------\" % str(nb_cluster))"
   ]
  },
  {
   "cell_type": "code",
   "execution_count": null,
   "metadata": {
    "collapsed": true
   },
   "outputs": [],
   "source": []
  },
  {
   "cell_type": "code",
   "execution_count": null,
   "metadata": {
    "collapsed": true
   },
   "outputs": [],
   "source": []
  },
  {
   "cell_type": "code",
   "execution_count": null,
   "metadata": {
    "collapsed": true
   },
   "outputs": [],
   "source": []
  },
  {
   "cell_type": "code",
   "execution_count": null,
   "metadata": {
    "collapsed": true
   },
   "outputs": [],
   "source": []
  }
 ],
 "metadata": {
  "anaconda-cloud": {},
  "kernelspec": {
   "display_name": "Python [conda env:opencv2]",
   "language": "python",
   "name": "conda-env-opencv2-py"
  },
  "language_info": {
   "codemirror_mode": {
    "name": "ipython",
    "version": 2
   },
   "file_extension": ".py",
   "mimetype": "text/x-python",
   "name": "python",
   "nbconvert_exporter": "python",
   "pygments_lexer": "ipython2",
   "version": "2.7.13"
  }
 },
 "nbformat": 4,
 "nbformat_minor": 1
}
